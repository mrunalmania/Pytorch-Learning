{
  "nbformat": 4,
  "nbformat_minor": 0,
  "metadata": {
    "colab": {
      "provenance": [],
      "authorship_tag": "ABX9TyPCpjn+FrIYLX6SMBYvnW2y",
      "include_colab_link": true
    },
    "kernelspec": {
      "name": "python3",
      "display_name": "Python 3"
    },
    "language_info": {
      "name": "python"
    },
    "accelerator": "GPU",
    "gpuClass": "standard"
  },
  "cells": [
    {
      "cell_type": "markdown",
      "metadata": {
        "id": "view-in-github",
        "colab_type": "text"
      },
      "source": [
        "<a href=\"https://colab.research.google.com/github/mrunalmania/Pytorch-Learning/blob/main/01_pytorch_workflow.ipynb\" target=\"_parent\"><img src=\"https://colab.research.google.com/assets/colab-badge.svg\" alt=\"Open In Colab\"/></a>"
      ]
    },
    {
      "cell_type": "markdown",
      "source": [
        "### Pytorch WorkFlow"
      ],
      "metadata": {
        "id": "jMADj94HkI75"
      }
    },
    {
      "cell_type": "code",
      "source": [
        "import torch\n",
        "from torch import nn # nn contains all building block for neural networks\n",
        "import matplotlib.pyplot as plt\n",
        "\n",
        "# Version of torch\n",
        "torch.__version__"
      ],
      "metadata": {
        "colab": {
          "base_uri": "https://localhost:8080/",
          "height": 36
        },
        "id": "2RYp6KvNmfUm",
        "outputId": "4aeb9e27-901d-417f-f4c7-fbd9157047b3"
      },
      "execution_count": null,
      "outputs": [
        {
          "output_type": "execute_result",
          "data": {
            "text/plain": [
              "'1.13.1+cu116'"
            ],
            "application/vnd.google.colaboratory.intrinsic+json": {
              "type": "string"
            }
          },
          "metadata": {},
          "execution_count": 1
        }
      ]
    },
    {
      "cell_type": "markdown",
      "source": [
        "##  1. Data (preparing and loading)\n",
        "\n",
        "Data can be almost anything in machine learning\n",
        "* Excel spreadsheet\n",
        "* Images of any kind\n",
        "* Videos\n",
        "* Audios (songs)\n",
        "* texts\n",
        "* DNA\n",
        "\n",
        "Machine learning is a game of two parts.\n",
        "1. Get data into numerical representation\n",
        "2. Build a model to learn patterns in that numerical representation.\n",
        "\n",
        "Lets create some *known* data using the linear regression.\n",
        "\n",
        "We will use a linear regression formula to make a straight line with *known* **parameters**."
      ],
      "metadata": {
        "id": "cM9wEArHnPut"
      }
    },
    {
      "cell_type": "code",
      "source": [
        "# lets create a known parameter\n",
        "weight = 0.7\n",
        "bias = 0.3\n",
        "\n",
        "#create\n",
        "start = 0\n",
        "end = 1\n",
        "step = 0.02\n",
        "X = torch.arange(start,end,step).unsqueeze(dim=1)\n",
        "y = weight*X + bias\n",
        "\n",
        "X[:10], y[:10]"
      ],
      "metadata": {
        "colab": {
          "base_uri": "https://localhost:8080/"
        },
        "id": "wO83nvlFnSgw",
        "outputId": "279108a8-04f8-4aa1-a874-dfeebaa446f1"
      },
      "execution_count": null,
      "outputs": [
        {
          "output_type": "execute_result",
          "data": {
            "text/plain": [
              "(tensor([[0.0000],\n",
              "         [0.0200],\n",
              "         [0.0400],\n",
              "         [0.0600],\n",
              "         [0.0800],\n",
              "         [0.1000],\n",
              "         [0.1200],\n",
              "         [0.1400],\n",
              "         [0.1600],\n",
              "         [0.1800]]), tensor([[0.3000],\n",
              "         [0.3140],\n",
              "         [0.3280],\n",
              "         [0.3420],\n",
              "         [0.3560],\n",
              "         [0.3700],\n",
              "         [0.3840],\n",
              "         [0.3980],\n",
              "         [0.4120],\n",
              "         [0.4260]]))"
            ]
          },
          "metadata": {},
          "execution_count": 2
        }
      ]
    },
    {
      "cell_type": "code",
      "source": [
        "len(X),len(y)"
      ],
      "metadata": {
        "colab": {
          "base_uri": "https://localhost:8080/"
        },
        "id": "Kp4StHzPqkaH",
        "outputId": "9279a85a-30b5-43ab-e8fe-45cbad09e0d0"
      },
      "execution_count": null,
      "outputs": [
        {
          "output_type": "execute_result",
          "data": {
            "text/plain": [
              "(50, 50)"
            ]
          },
          "metadata": {},
          "execution_count": 3
        }
      ]
    },
    {
      "cell_type": "markdown",
      "source": [
        "## Splitting dataset into training and testing (most important concept in machine learning)\n",
        "\n",
        "Lets create training and test set with our data"
      ],
      "metadata": {
        "id": "XST5zgK-rLaR"
      }
    },
    {
      "cell_type": "code",
      "source": [
        "train_split = int(0.8*len(X))\n",
        "train_split"
      ],
      "metadata": {
        "colab": {
          "base_uri": "https://localhost:8080/"
        },
        "id": "u1LXpibZsv5H",
        "outputId": "a6d77076-39b9-4257-a17d-be09b09bd1ef"
      },
      "execution_count": null,
      "outputs": [
        {
          "output_type": "execute_result",
          "data": {
            "text/plain": [
              "40"
            ]
          },
          "metadata": {},
          "execution_count": 4
        }
      ]
    },
    {
      "cell_type": "code",
      "source": [
        "X_train, y_train = X[:train_split],y[:train_split]\n",
        "X_test,y_test = X[train_split:],y[train_split:]\n",
        "\n",
        "len(X_train),len(y_train), len(X_test), len(y_test)"
      ],
      "metadata": {
        "colab": {
          "base_uri": "https://localhost:8080/"
        },
        "id": "0fUiXO4PtjER",
        "outputId": "87b4f636-9968-4b9f-d021-958c9d3a6ce1"
      },
      "execution_count": null,
      "outputs": [
        {
          "output_type": "execute_result",
          "data": {
            "text/plain": [
              "(40, 40, 10, 10)"
            ]
          },
          "metadata": {},
          "execution_count": 5
        }
      ]
    },
    {
      "cell_type": "code",
      "source": [
        "X_train,y_train"
      ],
      "metadata": {
        "colab": {
          "base_uri": "https://localhost:8080/"
        },
        "id": "vvIW-2Cet6Z1",
        "outputId": "7e2bd506-e139-4721-ed23-9be52db36990"
      },
      "execution_count": null,
      "outputs": [
        {
          "output_type": "execute_result",
          "data": {
            "text/plain": [
              "(tensor([[0.0000],\n",
              "         [0.0200],\n",
              "         [0.0400],\n",
              "         [0.0600],\n",
              "         [0.0800],\n",
              "         [0.1000],\n",
              "         [0.1200],\n",
              "         [0.1400],\n",
              "         [0.1600],\n",
              "         [0.1800],\n",
              "         [0.2000],\n",
              "         [0.2200],\n",
              "         [0.2400],\n",
              "         [0.2600],\n",
              "         [0.2800],\n",
              "         [0.3000],\n",
              "         [0.3200],\n",
              "         [0.3400],\n",
              "         [0.3600],\n",
              "         [0.3800],\n",
              "         [0.4000],\n",
              "         [0.4200],\n",
              "         [0.4400],\n",
              "         [0.4600],\n",
              "         [0.4800],\n",
              "         [0.5000],\n",
              "         [0.5200],\n",
              "         [0.5400],\n",
              "         [0.5600],\n",
              "         [0.5800],\n",
              "         [0.6000],\n",
              "         [0.6200],\n",
              "         [0.6400],\n",
              "         [0.6600],\n",
              "         [0.6800],\n",
              "         [0.7000],\n",
              "         [0.7200],\n",
              "         [0.7400],\n",
              "         [0.7600],\n",
              "         [0.7800]]), tensor([[0.3000],\n",
              "         [0.3140],\n",
              "         [0.3280],\n",
              "         [0.3420],\n",
              "         [0.3560],\n",
              "         [0.3700],\n",
              "         [0.3840],\n",
              "         [0.3980],\n",
              "         [0.4120],\n",
              "         [0.4260],\n",
              "         [0.4400],\n",
              "         [0.4540],\n",
              "         [0.4680],\n",
              "         [0.4820],\n",
              "         [0.4960],\n",
              "         [0.5100],\n",
              "         [0.5240],\n",
              "         [0.5380],\n",
              "         [0.5520],\n",
              "         [0.5660],\n",
              "         [0.5800],\n",
              "         [0.5940],\n",
              "         [0.6080],\n",
              "         [0.6220],\n",
              "         [0.6360],\n",
              "         [0.6500],\n",
              "         [0.6640],\n",
              "         [0.6780],\n",
              "         [0.6920],\n",
              "         [0.7060],\n",
              "         [0.7200],\n",
              "         [0.7340],\n",
              "         [0.7480],\n",
              "         [0.7620],\n",
              "         [0.7760],\n",
              "         [0.7900],\n",
              "         [0.8040],\n",
              "         [0.8180],\n",
              "         [0.8320],\n",
              "         [0.8460]]))"
            ]
          },
          "metadata": {},
          "execution_count": 6
        }
      ]
    },
    {
      "cell_type": "markdown",
      "source": [
        "## Visulize the building blocks"
      ],
      "metadata": {
        "id": "xz6CjEiSt9rd"
      }
    },
    {
      "cell_type": "code",
      "source": [
        "def plot_predictions(train_data = X_train,\n",
        "                     train_labels = y_train,\n",
        "                     test_data = X_test,\n",
        "                     test_labels = y_test,\n",
        "                     predictions = None):\n",
        "  plt.figure(figsize=(10,7))\n",
        "\n",
        "  # Plot the train data\n",
        "  plt.scatter(train_data,train_labels, c='b',s=4, label='Train Data')\n",
        "\n",
        "  #plot the test data\n",
        "  plt.scatter(test_data,test_labels,c='g', s=4, label='Test Data')\n",
        "\n",
        "  #plot the predictions\n",
        "  if predictions is not None:\n",
        "    plt.scatter(test_data,predictions,c='r',s=4,label='Predictions')\n",
        "  \n",
        "  #set the legend\n",
        "  plt.legend(prop={'size': 14})\n"
      ],
      "metadata": {
        "id": "RyVeYPtMuCTZ"
      },
      "execution_count": null,
      "outputs": []
    },
    {
      "cell_type": "code",
      "source": [
        "plot_predictions()"
      ],
      "metadata": {
        "colab": {
          "base_uri": "https://localhost:8080/",
          "height": 428
        },
        "id": "pSUSUmjbwogs",
        "outputId": "53c6eee0-beb9-4020-916c-cbb3f657bf06"
      },
      "execution_count": null,
      "outputs": [
        {
          "output_type": "display_data",
          "data": {
            "text/plain": [
              "<Figure size 720x504 with 1 Axes>"
            ],
            "image/png": "[encoded data removed]"
          },
          "metadata": {
            "needs_background": "light"
          }
        }
      ]
    },
    {
      "cell_type": "markdown",
      "source": [
        "## 2. Build model\n",
        "\n",
        "What our model does :\n",
        "start with random values (weight and bias)\n",
        "look at the training data, and adjust the random values to better represent (or get closer to) ideal values (the weight and bias value we use to create the data).\n",
        "\n",
        "How does it do so?\n",
        "Through 2 main algorithm\n",
        "1. Gradient Descent\n",
        "2. Back propogation."
      ],
      "metadata": {
        "id": "rdjX8orUOMrs"
      }
    },
    {
      "cell_type": "code",
      "source": [
        "from torch._C import dtype\n",
        "from torch import nn\n",
        "\n",
        "class LinearRegressionModel(nn.Module):\n",
        "  def __init__(self) -> None:\n",
        "    super().__init__()\n",
        "    self.weights = nn.Parameter(torch.randn(1,requires_grad=True,dtype=torch.float))\n",
        "    self.bias = nn.Parameter(torch.randn(1,requires_grad=True,dtype=torch.float))\n",
        "\n",
        "  #forward method to define computation in model\n",
        "  def forward(self, X: torch.Tensor) -> torch.Tensor: # -> x is the input data\n",
        "    return self.weights * X + self.bias\n",
        "  \n",
        "  "
      ],
      "metadata": {
        "id": "c_OObSDXPx7R"
      },
      "execution_count": null,
      "outputs": []
    },
    {
      "cell_type": "markdown",
      "source": [
        "### Discussing some of the most important building blocks\n",
        "\n",
        "* torch.nn -> contains all of the building blocks for computational graphs (a neural network considered as a computational graph).\n",
        "\n",
        "* torch.nn.parameter -> what parameter should our model try and learn, often pytorch layer from torch.nn will set these.\n",
        "\n",
        "* torch.nn.module -> The base class for all neural network modules, if you subclass it, you should overwrite the forward().\n",
        "\n",
        "* torch.optim -> this is where the optimizers in pytorch live, they will help with gradient descent.\n",
        "\n",
        "* def forward() -> All nn.module subclasses requires you to overwrite forward(),\n",
        "this method defines what happens in the forward computation."
      ],
      "metadata": {
        "id": "OEJa19ED29ad"
      }
    },
    {
      "cell_type": "markdown",
      "source": [
        "## checking out the internals of our pytorch model\n",
        " \n",
        "checking the contents of our model\n",
        "So we can check our model parameter or what's inside our model using `.parameters()`"
      ],
      "metadata": {
        "id": "Ua_ARB953FZ8"
      }
    },
    {
      "cell_type": "code",
      "source": [
        "torch.manual_seed(42)\n",
        "\n",
        "# object of linear regression class\n",
        "model_0  = LinearRegressionModel()\n",
        "# list the parameters\n",
        "list(model_0.parameters())"
      ],
      "metadata": {
        "colab": {
          "base_uri": "https://localhost:8080/"
        },
        "id": "_87Y8Oce7hQy",
        "outputId": "0349e17d-c00e-4dde-bf76-5f26859b195d"
      },
      "execution_count": null,
      "outputs": [
        {
          "output_type": "execute_result",
          "data": {
            "text/plain": [
              "[Parameter containing:\n",
              " tensor([0.3367], requires_grad=True), Parameter containing:\n",
              " tensor([0.1288], requires_grad=True)]"
            ]
          },
          "metadata": {},
          "execution_count": 10
        }
      ]
    },
    {
      "cell_type": "code",
      "source": [],
      "metadata": {
        "id": "goDXlHJUU8Im"
      },
      "execution_count": null,
      "outputs": []
    },
    {
      "cell_type": "code",
      "source": [
        "model_0.state_dict()"
      ],
      "metadata": {
        "colab": {
          "base_uri": "https://localhost:8080/"
        },
        "id": "Yo84Gi029ohv",
        "outputId": "f9403d9f-5d97-4c6b-af96-8cda436e7eb8"
      },
      "execution_count": null,
      "outputs": [
        {
          "output_type": "execute_result",
          "data": {
            "text/plain": [
              "OrderedDict([('weights', tensor([0.3367])), ('bias', tensor([0.1288]))])"
            ]
          },
          "metadata": {},
          "execution_count": 11
        }
      ]
    },
    {
      "cell_type": "markdown",
      "source": [
        "## Making predictions with our model"
      ],
      "metadata": {
        "id": "2otGoWV-9x9V"
      }
    },
    {
      "cell_type": "markdown",
      "source": [
        "## Making prediction using `torch.inference_mode()`\n",
        "\n",
        "To check the our model's predicting power, let see how well it can predict the `y_test` based on `X_test`.\n",
        "\n",
        "When we pass our data through model, it gonna run it through forward() method.\n"
      ],
      "metadata": {
        "id": "lWKrwihjHR22"
      }
    },
    {
      "cell_type": "code",
      "source": [
        "# Make predictions with model\n",
        "\n",
        "with torch.inference_mode():\n",
        "  y_preds = model_0.forward(X_test)\n",
        "\n",
        "# we can do something similer with torch.no_grad(), however torch.inference_mode() is preffered\n",
        "# with torch.no_grad():\n",
        "  # y_preds = model_0.forward(X_test)\n",
        "\n",
        "\n",
        "y_preds"
      ],
      "metadata": {
        "colab": {
          "base_uri": "https://localhost:8080/"
        },
        "id": "gJfM_HGvTQI_",
        "outputId": "176ccdcf-4dc7-4743-b0d5-cabc6620c323"
      },
      "execution_count": null,
      "outputs": [
        {
          "output_type": "execute_result",
          "data": {
            "text/plain": [
              "tensor([[0.3982],\n",
              "        [0.4049],\n",
              "        [0.4116],\n",
              "        [0.4184],\n",
              "        [0.4251],\n",
              "        [0.4318],\n",
              "        [0.4386],\n",
              "        [0.4453],\n",
              "        [0.4520],\n",
              "        [0.4588]])"
            ]
          },
          "metadata": {},
          "execution_count": 12
        }
      ]
    },
    {
      "cell_type": "code",
      "source": [
        "plot_predictions(predictions=y_preds)"
      ],
      "metadata": {
        "id": "Ik5OX_U6U9fj",
        "outputId": "67abb457-9ac6-460c-c956-8462387a7a81",
        "colab": {
          "base_uri": "https://localhost:8080/",
          "height": 428
        }
      },
      "execution_count": null,
      "outputs": [
        {
          "output_type": "display_data",
          "data": {
            "text/plain": [
              "<Figure size 720x504 with 1 Axes>"
            ],
            "image/png": "[encoded data removed]"
          },
          "metadata": {
            "needs_background": "light"
          }
        }
      ]
    },
    {
      "cell_type": "markdown",
      "source": [
        "### Training a model with Pytorch (intuition building)\n",
        "\n",
        "The whole idea of training is for a model to move from *unknown* parameter (this may be random) to *known* parameter\n",
        "\n",
        "Or in other words, poor representation of the data to better representation of the data.\n",
        "\n",
        "One way to measure, how poor or how wrong your model predictions are is to use a loss function.\n",
        "\n",
        "* Note : Loss function may also be called as Cost function or criterion in different areas. For our case, we are going to refer to it as Loss Function.\n",
        "\n",
        "Things we need to train\n",
        "\n",
        "* **Loss Function:** A function to measure how wrong your model's predictions are to the ideal outputs, lower is better.\n",
        "\n",
        "* **Optimizers:** Takes into account a loss of a model and adjust the model's parameter(e.g weight and bias) to improve the loss function.\n",
        "\n",
        "And specifically for pytorch, we need\n",
        "\n",
        "* A training loop\n",
        "* A testing loop"
      ],
      "metadata": {
        "id": "0tsEz9mmFIbt"
      }
    },
    {
      "cell_type": "code",
      "source": [
        "# check out our model parameter (parameter is a value that our model sets itself)\n",
        "model_0.state_dict()"
      ],
      "metadata": {
        "colab": {
          "base_uri": "https://localhost:8080/"
        },
        "id": "FDhcr8VFOpum",
        "outputId": "76c1bec5-47d5-4ecc-9391-3951b8591826"
      },
      "execution_count": null,
      "outputs": [
        {
          "output_type": "execute_result",
          "data": {
            "text/plain": [
              "OrderedDict([('weights', tensor([0.3367])), ('bias', tensor([0.1288]))])"
            ]
          },
          "metadata": {},
          "execution_count": 14
        }
      ]
    },
    {
      "cell_type": "code",
      "source": [
        "# setting up a loss function\n",
        "loss_f1 = nn.L1Loss()\n",
        "\n",
        "# setting up an optimizer (Stochastic gradient descent)\n",
        "optimizer = torch.optim.SGD(params=model_0.parameters(),lr=0.01) # lr = learning rate, probably the most important hyperparameter that you can set."
      ],
      "metadata": {
        "id": "UlmWxnhRKdEQ"
      },
      "execution_count": null,
      "outputs": []
    },
    {
      "cell_type": "code",
      "source": [
        "loss_f1"
      ],
      "metadata": {
        "colab": {
          "base_uri": "https://localhost:8080/"
        },
        "id": "ZcmQXCd8KnTo",
        "outputId": "67d14334-9d0a-4483-9e96-454a365556b1"
      },
      "execution_count": null,
      "outputs": [
        {
          "output_type": "execute_result",
          "data": {
            "text/plain": [
              "L1Loss()"
            ]
          },
          "metadata": {},
          "execution_count": 16
        }
      ]
    },
    {
      "cell_type": "markdown",
      "source": [
        "## Pytorch training a loop intuition\n",
        "\n",
        "A couple of things we need in a training loop\n",
        "\n",
        "0. Loop through the data\n",
        "1. Forward Pass ( this involves the data moving through our model's `forward()` functions) to make predictions on data - also called as forward propogation.\n",
        "\n",
        "2. Calculate the loss (compare the forward pass predictions to the ground truth labels)\n",
        "3. Optimizer zero grad\n",
        "4. Loss backward - move backwards through our model to calculate the gradients of each of the parameters of our model with respect to the loss (**backpropagation**)\n",
        "5. Optimizer step - use the optimizer to adjust our model's parameters to try and improve the loss(**gradient descent**)"
      ],
      "metadata": {
        "id": "cLmSdblNPYzq"
      }
    },
    {
      "cell_type": "code",
      "source": [
        "torch.manual_seed(42)\n",
        "\n",
        "# An epoch is one loop through the data\n",
        "epochs = 100\n",
        "\n",
        "# Tracking...\n",
        "epoch_count = []\n",
        "loss_values = []\n",
        "test_loss_values = []\n",
        "\n",
        "# 0 loop through the data ...\n",
        "for epoch in range(epochs):\n",
        "  # sets the model to training mode.\n",
        "  model_0.train() # train mode in pytorch sets all parameters that require the gradients to require gradient\n",
        "\n",
        "  # 1. Forward pass\n",
        "  y_pred = model_0(X_train)\n",
        "\n",
        "  # 2. Calculate the loss\n",
        "  loss = loss_f1(y_pred,y_train)\n",
        "\n",
        "\n",
        "  # 3. Optimizer zero grad\n",
        "  optimizer.zero_grad()\n",
        "\n",
        "  # 4. Perform backpropagation on the loss with respect to the parameters of the model\n",
        "  loss.backward()\n",
        "\n",
        "  # 5. step the optimizer (gradient descent)\n",
        "  optimizer.step()  # by default how the optimizer changes will accumulate through the loop... so we have to zero them above in step 3 for the next iteration of the loop.\n",
        "\n",
        "  #Testing\n",
        "  model_0.eval() # turns off the different setting of model for eavaluation and testing(dropout and batch norm layers)\n",
        "  with torch.inference_mode(): #turns off the gradient setting and couple of more things behind the scene.\n",
        "  # with torch.no_grad(): # you may also see torch.no_grad in older pytorch codes\n",
        "    # 1. Do the forward pass\n",
        "    test_pred = model_0(X_test)\n",
        "\n",
        "    # 2. calculate the loss\n",
        "    test_loss = loss_f1(test_pred,y_test)\n",
        "\n",
        "\n",
        "  # print our what's happenin\n",
        "  if epoch%10 == 0:\n",
        "    epoch_count.append(epoch)\n",
        "    loss_values.append(loss)\n",
        "    test_loss_values.append(test_loss)\n",
        "    print(f\"Epoch: {epoch} | Loss: {loss} | Test Loss: {test_loss}\")\n",
        "    print(model_0.state_dict())"
      ],
      "metadata": {
        "id": "XdCnidHhnQ3q",
        "colab": {
          "base_uri": "https://localhost:8080/"
        },
        "outputId": "dde779d3-b4fe-46fd-daf9-8320b49f956e"
      },
      "execution_count": null,
      "outputs": [
        {
          "output_type": "stream",
          "name": "stdout",
          "text": [
            "Epoch: 0 | Loss: 0.31288138031959534 | Test Loss: 0.48106518387794495\n",
            "OrderedDict([('weights', tensor([0.3406])), ('bias', tensor([0.1388]))])\n",
            "Epoch: 10 | Loss: 0.1976713240146637 | Test Loss: 0.3463551998138428\n",
            "OrderedDict([('weights', tensor([0.3796])), ('bias', tensor([0.2388]))])\n",
            "Epoch: 20 | Loss: 0.08908725529909134 | Test Loss: 0.21729660034179688\n",
            "OrderedDict([('weights', tensor([0.4184])), ('bias', tensor([0.3333]))])\n",
            "Epoch: 30 | Loss: 0.053148526698350906 | Test Loss: 0.14464017748832703\n",
            "OrderedDict([('weights', tensor([0.4512])), ('bias', tensor([0.3768]))])\n",
            "Epoch: 40 | Loss: 0.04543796554207802 | Test Loss: 0.11360953003168106\n",
            "OrderedDict([('weights', tensor([0.4748])), ('bias', tensor([0.3868]))])\n",
            "Epoch: 50 | Loss: 0.04167863354086876 | Test Loss: 0.09919948130846024\n",
            "OrderedDict([('weights', tensor([0.4938])), ('bias', tensor([0.3843]))])\n",
            "Epoch: 60 | Loss: 0.03818932920694351 | Test Loss: 0.08886633068323135\n",
            "OrderedDict([('weights', tensor([0.5116])), ('bias', tensor([0.3788]))])\n",
            "Epoch: 70 | Loss: 0.03476089984178543 | Test Loss: 0.0805937647819519\n",
            "OrderedDict([('weights', tensor([0.5288])), ('bias', tensor([0.3718]))])\n",
            "Epoch: 80 | Loss: 0.03132382780313492 | Test Loss: 0.07232122868299484\n",
            "OrderedDict([('weights', tensor([0.5459])), ('bias', tensor([0.3648]))])\n",
            "Epoch: 90 | Loss: 0.02788739837706089 | Test Loss: 0.06473556160926819\n",
            "OrderedDict([('weights', tensor([0.5629])), ('bias', tensor([0.3573]))])\n"
          ]
        }
      ]
    },
    {
      "cell_type": "code",
      "source": [
        "# plot the loss curves\n",
        "epoch_count, loss_values, test_loss_values"
      ],
      "metadata": {
        "colab": {
          "base_uri": "https://localhost:8080/"
        },
        "id": "uboNMKj2WlO6",
        "outputId": "eb1c2057-2515-4a34-96bb-99a26b5cd2ec"
      },
      "execution_count": null,
      "outputs": [
        {
          "output_type": "execute_result",
          "data": {
            "text/plain": [
              "([0, 10, 20, 30, 40, 50, 60, 70, 80, 90],\n",
              " [tensor(0.3129, grad_fn=<MeanBackward0>),\n",
              "  tensor(0.1977, grad_fn=<MeanBackward0>),\n",
              "  tensor(0.0891, grad_fn=<MeanBackward0>),\n",
              "  tensor(0.0531, grad_fn=<MeanBackward0>),\n",
              "  tensor(0.0454, grad_fn=<MeanBackward0>),\n",
              "  tensor(0.0417, grad_fn=<MeanBackward0>),\n",
              "  tensor(0.0382, grad_fn=<MeanBackward0>),\n",
              "  tensor(0.0348, grad_fn=<MeanBackward0>),\n",
              "  tensor(0.0313, grad_fn=<MeanBackward0>),\n",
              "  tensor(0.0279, grad_fn=<MeanBackward0>)],\n",
              " [tensor(0.4811),\n",
              "  tensor(0.3464),\n",
              "  tensor(0.2173),\n",
              "  tensor(0.1446),\n",
              "  tensor(0.1136),\n",
              "  tensor(0.0992),\n",
              "  tensor(0.0889),\n",
              "  tensor(0.0806),\n",
              "  tensor(0.0723),\n",
              "  tensor(0.0647)])"
            ]
          },
          "metadata": {},
          "execution_count": 18
        }
      ]
    },
    {
      "cell_type": "code",
      "source": [
        "import numpy as np\n",
        "np.array(torch.tensor(loss_values).numpy())"
      ],
      "metadata": {
        "colab": {
          "base_uri": "https://localhost:8080/"
        },
        "id": "JnZHmOtKXsex",
        "outputId": "e2026afc-4778-4b31-fa5d-e2856ee54d03"
      },
      "execution_count": null,
      "outputs": [
        {
          "output_type": "execute_result",
          "data": {
            "text/plain": [
              "array([0.31288138, 0.19767132, 0.08908726, 0.05314853, 0.04543797,\n",
              "       0.04167863, 0.03818933, 0.0347609 , 0.03132383, 0.0278874 ],\n",
              "      dtype=float32)"
            ]
          },
          "metadata": {},
          "execution_count": 19
        }
      ]
    },
    {
      "cell_type": "code",
      "source": [
        "# plot the training and testing loss curve\n",
        "plt.plot(epoch_count,np.array(torch.tensor(loss_values).numpy()), label='Train loss', color = 'green')\n",
        "plt.plot(epoch_count,test_loss_values, label='Test loss', color = 'red')\n",
        "plt.legend()\n",
        "plt.ylabel('Loss')\n",
        "plt.xlabel('Epoch')\n",
        "plt.title('Training and testing curve')"
      ],
      "metadata": {
        "colab": {
          "base_uri": "https://localhost:8080/",
          "height": 312
        },
        "id": "p7sltPB-YF0O",
        "outputId": "83df8db9-58f4-43a9-b6d1-1d5da8cda83b"
      },
      "execution_count": null,
      "outputs": [
        {
          "output_type": "execute_result",
          "data": {
            "text/plain": [
              "Text(0.5, 1.0, 'Training and testing curve')"
            ]
          },
          "metadata": {},
          "execution_count": 20
        },
        {
          "output_type": "display_data",
          "data": {
            "text/plain": [
              "<Figure size 432x288 with 1 Axes>"
            ],
            "image/png": "[encoded data removed]"
          },
          "metadata": {
            "needs_background": "light"
          }
        }
      ]
    },
    {
      "cell_type": "code",
      "source": [
        "plot_predictions(predictions=y_preds)"
      ],
      "metadata": {
        "colab": {
          "base_uri": "https://localhost:8080/",
          "height": 428
        },
        "id": "9-Obe0J1KnZe",
        "outputId": "834d18ca-f8ed-4565-a3ef-551db4ca4c22"
      },
      "execution_count": null,
      "outputs": [
        {
          "output_type": "display_data",
          "data": {
            "text/plain": [
              "<Figure size 720x504 with 1 Axes>"
            ],
            "image/png": "[encoded data removed]"
          },
          "metadata": {
            "needs_background": "light"
          }
        }
      ]
    },
    {
      "cell_type": "code",
      "source": [
        "with torch.inference_mode():\n",
        "  y_preds_new = model_0(X_test)"
      ],
      "metadata": {
        "id": "uFKHvdGWK6TE"
      },
      "execution_count": null,
      "outputs": []
    },
    {
      "cell_type": "code",
      "source": [
        "plot_predictions(predictions=y_preds_new)"
      ],
      "metadata": {
        "colab": {
          "base_uri": "https://localhost:8080/",
          "height": 428
        },
        "id": "YyvBPdWOMgHT",
        "outputId": "92b6138b-b140-42d1-bf23-3555731b8765"
      },
      "execution_count": null,
      "outputs": [
        {
          "output_type": "display_data",
          "data": {
            "text/plain": [
              "<Figure size 720x504 with 1 Axes>"
            ],
            "image/png": "[encoded data removed]"
          },
          "metadata": {
            "needs_background": "light"
          }
        }
      ]
    },
    {
      "cell_type": "markdown",
      "source": [
        "### Saving and loading model in pytorch\n",
        "\n",
        "There are three main ways to save and load the model in pytorch\n",
        "\n",
        "1. `torch.save()` -> allows you to save the python object in python pickle format.\n",
        "\n",
        "2. `torch.load()` -> allows you to load a saved pytorch object\n",
        "3. `torch.nn.Module.load_state_dict()` -> this allows you to load model's saved state dictionary"
      ],
      "metadata": {
        "id": "mQZvFQh41BIz"
      }
    },
    {
      "cell_type": "code",
      "source": [
        "model_0.state_dict()"
      ],
      "metadata": {
        "colab": {
          "base_uri": "https://localhost:8080/"
        },
        "id": "K4vY_ubx3CZ3",
        "outputId": "ab9adaa6-aee1-4f79-9eac-117a4f7a738d"
      },
      "execution_count": null,
      "outputs": [
        {
          "output_type": "execute_result",
          "data": {
            "text/plain": [
              "OrderedDict([('weights', tensor([0.5784])), ('bias', tensor([0.3513]))])"
            ]
          },
          "metadata": {},
          "execution_count": 24
        }
      ]
    },
    {
      "cell_type": "code",
      "source": [
        "# Saving our pytorch model\n",
        "\n",
        "from pathlib import Path\n",
        "\n",
        "MODEL_PATH = Path('models')\n",
        "MODEL_PATH.mkdir(parents=True, exist_ok=True)\n",
        "\n",
        "MODEL_NAME = '01_pytorch_workflow_model.pth'\n",
        "MODEL_SAVE_PATH = MODEL_PATH/MODEL_NAME\n",
        "\n",
        "# save the model \n",
        "print(f\"Saving model to: {MODEL_SAVE_PATH}\")\n",
        "torch.save(obj=model_0.state_dict(), f=MODEL_SAVE_PATH)\n"
      ],
      "metadata": {
        "colab": {
          "base_uri": "https://localhost:8080/"
        },
        "id": "83BJj44o3zII",
        "outputId": "c2a946f7-0528-45a8-e253-7ec29b239185"
      },
      "execution_count": null,
      "outputs": [
        {
          "output_type": "stream",
          "name": "stdout",
          "text": [
            "Saving model to: models/01_pytorch_workflow_model.pth\n"
          ]
        }
      ]
    },
    {
      "cell_type": "markdown",
      "source": [
        "## Load the pytorch model\n",
        "Since we saved our model's `state_dict()` rather the entire model, we will create a new instance of our model class and load the saved `state_dict()`"
      ],
      "metadata": {
        "id": "uy9LOk-o7NeM"
      }
    },
    {
      "cell_type": "code",
      "source": [
        "# load the model\n",
        "\n",
        "model_01 = LinearRegressionModel()\n",
        "model_01.load_state_dict(torch.load(f=MODEL_SAVE_PATH))\n"
      ],
      "metadata": {
        "colab": {
          "base_uri": "https://localhost:8080/"
        },
        "id": "eI98fMy66Shb",
        "outputId": "1025012a-cd7e-417c-d24e-930051172ac1"
      },
      "execution_count": null,
      "outputs": [
        {
          "output_type": "execute_result",
          "data": {
            "text/plain": [
              "<All keys matched successfully>"
            ]
          },
          "metadata": {},
          "execution_count": 26
        }
      ]
    },
    {
      "cell_type": "code",
      "source": [
        "model_01.state_dict()"
      ],
      "metadata": {
        "colab": {
          "base_uri": "https://localhost:8080/"
        },
        "id": "4VvMeg2e8XdT",
        "outputId": "d6ce8586-279a-4d40-e189-bf83aed2a272"
      },
      "execution_count": null,
      "outputs": [
        {
          "output_type": "execute_result",
          "data": {
            "text/plain": [
              "OrderedDict([('weights', tensor([0.5784])), ('bias', tensor([0.3513]))])"
            ]
          },
          "metadata": {},
          "execution_count": 27
        }
      ]
    },
    {
      "cell_type": "code",
      "source": [
        "# makes some predictions with loaded model\n",
        "model_01.eval()\n",
        "with torch.inference_mode():\n",
        "  y_preds_load = model_01(X_test)\n",
        "\n",
        "plot_predictions(predictions=y_preds_load)"
      ],
      "metadata": {
        "colab": {
          "base_uri": "https://localhost:8080/",
          "height": 428
        },
        "id": "Bm_YKF3O8jqm",
        "outputId": "d09b468a-b733-4178-8913-7099b2796b28"
      },
      "execution_count": null,
      "outputs": [
        {
          "output_type": "display_data",
          "data": {
            "text/plain": [
              "<Figure size 720x504 with 1 Axes>"
            ],
            "image/png": "[encoded data removed]"
          },
          "metadata": {
            "needs_background": "light"
          }
        }
      ]
    },
    {
      "cell_type": "markdown",
      "source": [
        "## Putting it all together\n",
        " lets go back throgh the steps above and see it all in one place"
      ],
      "metadata": {
        "id": "aRI24hwu-Ehq"
      }
    },
    {
      "cell_type": "code",
      "source": [
        "import torch\n",
        "from torch import nn\n",
        "import matplotlib.pyplot as plt\n",
        "\n",
        "# check the pytorch version\n",
        "torch.__version__"
      ],
      "metadata": {
        "colab": {
          "base_uri": "https://localhost:8080/",
          "height": 36
        },
        "id": "YSnNY9L2-TDG",
        "outputId": "df09f6b8-bff4-4866-ac49-4d6bbcc0e5f9"
      },
      "execution_count": null,
      "outputs": [
        {
          "output_type": "execute_result",
          "data": {
            "text/plain": [
              "'1.13.1+cu116'"
            ],
            "application/vnd.google.colaboratory.intrinsic+json": {
              "type": "string"
            }
          },
          "metadata": {},
          "execution_count": 29
        }
      ]
    },
    {
      "cell_type": "markdown",
      "source": [
        "Lets create device agnostic code\n",
        "This means if we have got access to a GPU, our code will use it. (for potentially faster computing)\n",
        "\n",
        "If no GPU is available, the code will default to using CPU."
      ],
      "metadata": {
        "id": "S-i4j2iADGFX"
      }
    },
    {
      "cell_type": "code",
      "source": [
        "# lets setup the device agnostic code\n",
        "device = 'cuda' if torch.cuda.is_available() else 'cpu'\n",
        "\n",
        "device"
      ],
      "metadata": {
        "colab": {
          "base_uri": "https://localhost:8080/",
          "height": 36
        },
        "id": "u32r9FksDyHl",
        "outputId": "1b58fb7b-bcc8-4e9a-a79b-2d02d6cdd902"
      },
      "execution_count": null,
      "outputs": [
        {
          "output_type": "execute_result",
          "data": {
            "text/plain": [
              "'cuda'"
            ],
            "application/vnd.google.colaboratory.intrinsic+json": {
              "type": "string"
            }
          },
          "metadata": {},
          "execution_count": 48
        }
      ]
    },
    {
      "cell_type": "markdown",
      "source": [
        "# 1 Data"
      ],
      "metadata": {
        "id": "vTIOUIhcC3Iv"
      }
    },
    {
      "cell_type": "code",
      "source": [
        "# create some data using linear regression formula of y = weight*X+bias\n",
        "weight = 0.7\n",
        "bias = 0.3\n",
        "\n",
        "# Create a range values\n",
        "start = 0\n",
        "end = 1\n",
        "step  = 0.02\n",
        "\n",
        "# Create a X and y (features and labels)\n",
        "X = torch.arange(start,end,step).unsqueeze(dim=1)\n",
        "y = weight*X + bias\n",
        "\n",
        "X,y"
      ],
      "metadata": {
        "colab": {
          "base_uri": "https://localhost:8080/"
        },
        "id": "9xO6kzH5C697",
        "outputId": "edcc496b-5a3b-4fc6-ce6f-1aab768a8b8c"
      },
      "execution_count": null,
      "outputs": [
        {
          "output_type": "execute_result",
          "data": {
            "text/plain": [
              "(tensor([[0.0000],\n",
              "         [0.0200],\n",
              "         [0.0400],\n",
              "         [0.0600],\n",
              "         [0.0800],\n",
              "         [0.1000],\n",
              "         [0.1200],\n",
              "         [0.1400],\n",
              "         [0.1600],\n",
              "         [0.1800],\n",
              "         [0.2000],\n",
              "         [0.2200],\n",
              "         [0.2400],\n",
              "         [0.2600],\n",
              "         [0.2800],\n",
              "         [0.3000],\n",
              "         [0.3200],\n",
              "         [0.3400],\n",
              "         [0.3600],\n",
              "         [0.3800],\n",
              "         [0.4000],\n",
              "         [0.4200],\n",
              "         [0.4400],\n",
              "         [0.4600],\n",
              "         [0.4800],\n",
              "         [0.5000],\n",
              "         [0.5200],\n",
              "         [0.5400],\n",
              "         [0.5600],\n",
              "         [0.5800],\n",
              "         [0.6000],\n",
              "         [0.6200],\n",
              "         [0.6400],\n",
              "         [0.6600],\n",
              "         [0.6800],\n",
              "         [0.7000],\n",
              "         [0.7200],\n",
              "         [0.7400],\n",
              "         [0.7600],\n",
              "         [0.7800],\n",
              "         [0.8000],\n",
              "         [0.8200],\n",
              "         [0.8400],\n",
              "         [0.8600],\n",
              "         [0.8800],\n",
              "         [0.9000],\n",
              "         [0.9200],\n",
              "         [0.9400],\n",
              "         [0.9600],\n",
              "         [0.9800]]), tensor([[0.3000],\n",
              "         [0.3140],\n",
              "         [0.3280],\n",
              "         [0.3420],\n",
              "         [0.3560],\n",
              "         [0.3700],\n",
              "         [0.3840],\n",
              "         [0.3980],\n",
              "         [0.4120],\n",
              "         [0.4260],\n",
              "         [0.4400],\n",
              "         [0.4540],\n",
              "         [0.4680],\n",
              "         [0.4820],\n",
              "         [0.4960],\n",
              "         [0.5100],\n",
              "         [0.5240],\n",
              "         [0.5380],\n",
              "         [0.5520],\n",
              "         [0.5660],\n",
              "         [0.5800],\n",
              "         [0.5940],\n",
              "         [0.6080],\n",
              "         [0.6220],\n",
              "         [0.6360],\n",
              "         [0.6500],\n",
              "         [0.6640],\n",
              "         [0.6780],\n",
              "         [0.6920],\n",
              "         [0.7060],\n",
              "         [0.7200],\n",
              "         [0.7340],\n",
              "         [0.7480],\n",
              "         [0.7620],\n",
              "         [0.7760],\n",
              "         [0.7900],\n",
              "         [0.8040],\n",
              "         [0.8180],\n",
              "         [0.8320],\n",
              "         [0.8460],\n",
              "         [0.8600],\n",
              "         [0.8740],\n",
              "         [0.8880],\n",
              "         [0.9020],\n",
              "         [0.9160],\n",
              "         [0.9300],\n",
              "         [0.9440],\n",
              "         [0.9580],\n",
              "         [0.9720],\n",
              "         [0.9860]]))"
            ]
          },
          "metadata": {},
          "execution_count": 31
        }
      ]
    },
    {
      "cell_type": "code",
      "source": [
        "len(X), len(y)"
      ],
      "metadata": {
        "colab": {
          "base_uri": "https://localhost:8080/"
        },
        "id": "YdNSMDCnFinS",
        "outputId": "89212fe5-1248-422c-d169-090de932d17a"
      },
      "execution_count": null,
      "outputs": [
        {
          "output_type": "execute_result",
          "data": {
            "text/plain": [
              "(50, 50)"
            ]
          },
          "metadata": {},
          "execution_count": 32
        }
      ]
    },
    {
      "cell_type": "code",
      "source": [
        "# split the data\n",
        "train_split = int(0.8*len(X))\n",
        "\n",
        "X_train,y_train = X[:train_split],y[:train_split]\n",
        "X_test,y_test = X[train_split:], y[train_split:]\n",
        "\n",
        "len(X_train), len(y_train), len(X_test), len(y_test)"
      ],
      "metadata": {
        "colab": {
          "base_uri": "https://localhost:8080/"
        },
        "id": "iCQC8IyfFlKf",
        "outputId": "fc2e796e-4da6-4911-afe3-b1e378a51d7a"
      },
      "execution_count": null,
      "outputs": [
        {
          "output_type": "execute_result",
          "data": {
            "text/plain": [
              "(40, 40, 10, 10)"
            ]
          },
          "metadata": {},
          "execution_count": 33
        }
      ]
    },
    {
      "cell_type": "code",
      "source": [
        "#plot the data\n",
        "# Note: if you don't have plot prediction function loaded this will give error.\n",
        "plot_predictions(X_train, y_train, X_test, y_test)"
      ],
      "metadata": {
        "id": "NPPUyLrrGDE5",
        "colab": {
          "base_uri": "https://localhost:8080/",
          "height": 428
        },
        "outputId": "2dd413dd-a828-499a-f7c0-5d5976ba16b3"
      },
      "execution_count": null,
      "outputs": [
        {
          "output_type": "display_data",
          "data": {
            "text/plain": [
              "<Figure size 720x504 with 1 Axes>"
            ],
            "image/png": "[encoded data removed]"
          },
          "metadata": {
            "needs_background": "light"
          }
        }
      ]
    },
    {
      "cell_type": "code",
      "source": [
        "from torch.nn.modules import linear\n",
        "# building a pytorch model by subclassing nn.Module class\n",
        "class LinearRegressionModelV2(nn.Module):\n",
        "  def __init__(self) -> None:\n",
        "    super().__init__()\n",
        "    # use nn.Linear() to creating the model parameters. / also called linear transform, probing layer, fully connected layer, dense layer\n",
        "    self.linear_layer = nn.Linear(in_features=1, out_features=1)\n",
        "\n",
        "  def forward(self, x: torch.tensor) -> torch.tensor:\n",
        "    return self.linear_layer(x)\n",
        "  \n",
        "# set the manual seed\n",
        "torch.manual_seed(42)\n",
        "model_2 = LinearRegressionModelV2()\n",
        "model_2,model_2.state_dict()"
      ],
      "metadata": {
        "colab": {
          "base_uri": "https://localhost:8080/"
        },
        "id": "5o9wO4BM6NrP",
        "outputId": "c4a1f63a-722a-45c4-ca5b-0cab87331758"
      },
      "execution_count": null,
      "outputs": [
        {
          "output_type": "execute_result",
          "data": {
            "text/plain": [
              "(LinearRegressionModelV2(\n",
              "   (linear_layer): Linear(in_features=1, out_features=1, bias=True)\n",
              " ),\n",
              " OrderedDict([('linear_layer.weight', tensor([[0.7645]])),\n",
              "              ('linear_layer.bias', tensor([0.8300]))]))"
            ]
          },
          "metadata": {},
          "execution_count": 42
        }
      ]
    },
    {
      "cell_type": "code",
      "source": [
        "# check model's current device\n",
        "next(model_2.parameters()).device"
      ],
      "metadata": {
        "colab": {
          "base_uri": "https://localhost:8080/"
        },
        "id": "Rz0p1gWY-z10",
        "outputId": "9d23dbea-6ef6-4a63-c81e-6a2c86d70bc6"
      },
      "execution_count": null,
      "outputs": [
        {
          "output_type": "execute_result",
          "data": {
            "text/plain": [
              "device(type='cpu')"
            ]
          },
          "metadata": {},
          "execution_count": 36
        }
      ]
    },
    {
      "cell_type": "code",
      "source": [
        "model_2.to(device)\n",
        "next(model_2.parameters()).device"
      ],
      "metadata": {
        "colab": {
          "base_uri": "https://localhost:8080/"
        },
        "id": "HQCY-LCg_jzu",
        "outputId": "1b4a323a-8c2c-4a4b-d7ca-d697144683cf"
      },
      "execution_count": null,
      "outputs": [
        {
          "output_type": "execute_result",
          "data": {
            "text/plain": [
              "device(type='cuda', index=0)"
            ]
          },
          "metadata": {},
          "execution_count": 37
        }
      ]
    },
    {
      "cell_type": "markdown",
      "source": [
        "## Training\n",
        "\n",
        "For training we need\n",
        "1. Loss function\n",
        "2. Optimizer\n",
        "3. Training loop\n",
        "4. Testing loop"
      ],
      "metadata": {
        "id": "5ri5r9pw_xFt"
      }
    },
    {
      "cell_type": "code",
      "source": [
        "# set up the loss function\n",
        "loss_fn_1 = nn.L1Loss()\n",
        "\n",
        "# set up an optimizers\n",
        "optimizer1 = torch.optim.SGD(params = model_2.parameters(),lr = 0.01)"
      ],
      "metadata": {
        "id": "t4nPejs_AQQW"
      },
      "execution_count": null,
      "outputs": []
    },
    {
      "cell_type": "code",
      "source": [
        "# training loop\n",
        "torch.manual_seed(42)\n",
        "\n",
        "#set epoch\n",
        "epochs = 200\n",
        "\n",
        "#put data in target device -> device agnostic code\n",
        "X_train = X_train.to(device)\n",
        "y_train = y_train.to(device)\n",
        "X_test = X_test.to(device)\n",
        "y_test = y_test.to(device)\n",
        "model_2.to(device)\n",
        "# print(device)\n",
        "\n",
        "#tracking..\n",
        "epoch_count_1 = []\n",
        "loss_value_1 = []\n",
        "test_loss_value_1 = []\n",
        "\n",
        "# loop through the data\n",
        "for epoch in range(epochs):\n",
        "  # set training mode\n",
        "  model_2.train()\n",
        "\n",
        "  # 1 forward pass\n",
        "  y_pred_1 = model_2(X_train)\n",
        "\n",
        "  # Calculate loss\n",
        "  loss = loss_fn_1(y_pred_1,y_train)\n",
        "\n",
        "  # Optimizer zero_grad\n",
        "  optimizer1.zero_grad()\n",
        " \n",
        "  # backward propagtion on loss with respect to model perameters\n",
        "  loss.backward()\n",
        "\n",
        "  # step the optimizer (gradient descent)\n",
        "  optimizer1.step()\n",
        "\n",
        "  # testing..\n",
        "  model_2.eval()\n",
        "\n",
        "  with torch.inference_mode():\n",
        "    test_pred = model_2(X_test)\n",
        "  \n",
        "  test_loss = loss_fn_1(test_pred,y_test)\n",
        "\n",
        "  #print what's happenin\n",
        "  if epoch%10 == 0:\n",
        "    print(f\"Epoch {epoch} | loss value : {loss} | test loss value : {test_loss}\")\n",
        "\n",
        "  \n"
      ],
      "metadata": {
        "id": "v76yDD8WAqhi",
        "colab": {
          "base_uri": "https://localhost:8080/"
        },
        "outputId": "082c7d8d-bc27-4a0c-fd18-76b7a9e91ac4"
      },
      "execution_count": null,
      "outputs": [
        {
          "output_type": "stream",
          "name": "stdout",
          "text": [
            "cuda\n",
            "Epoch 0 | loss value : 0.0012645035749301314 | test loss value : 0.013801801018416882\n",
            "Epoch 10 | loss value : 0.0012645035749301314 | test loss value : 0.013801801018416882\n",
            "Epoch 20 | loss value : 0.0012645035749301314 | test loss value : 0.013801801018416882\n",
            "Epoch 30 | loss value : 0.0012645035749301314 | test loss value : 0.013801801018416882\n",
            "Epoch 40 | loss value : 0.0012645035749301314 | test loss value : 0.013801801018416882\n",
            "Epoch 50 | loss value : 0.0012645035749301314 | test loss value : 0.013801801018416882\n",
            "Epoch 60 | loss value : 0.0012645035749301314 | test loss value : 0.013801801018416882\n",
            "Epoch 70 | loss value : 0.0012645035749301314 | test loss value : 0.013801801018416882\n",
            "Epoch 80 | loss value : 0.0012645035749301314 | test loss value : 0.013801801018416882\n",
            "Epoch 90 | loss value : 0.0012645035749301314 | test loss value : 0.013801801018416882\n",
            "Epoch 100 | loss value : 0.0012645035749301314 | test loss value : 0.013801801018416882\n",
            "Epoch 110 | loss value : 0.0012645035749301314 | test loss value : 0.013801801018416882\n",
            "Epoch 120 | loss value : 0.0012645035749301314 | test loss value : 0.013801801018416882\n",
            "Epoch 130 | loss value : 0.0012645035749301314 | test loss value : 0.013801801018416882\n",
            "Epoch 140 | loss value : 0.0012645035749301314 | test loss value : 0.013801801018416882\n",
            "Epoch 150 | loss value : 0.0012645035749301314 | test loss value : 0.013801801018416882\n",
            "Epoch 160 | loss value : 0.0012645035749301314 | test loss value : 0.013801801018416882\n",
            "Epoch 170 | loss value : 0.0012645035749301314 | test loss value : 0.013801801018416882\n",
            "Epoch 180 | loss value : 0.0012645035749301314 | test loss value : 0.013801801018416882\n",
            "Epoch 190 | loss value : 0.0012645035749301314 | test loss value : 0.013801801018416882\n"
          ]
        }
      ]
    },
    {
      "cell_type": "code",
      "source": [
        "model_2.state_dict()"
      ],
      "metadata": {
        "colab": {
          "base_uri": "https://localhost:8080/"
        },
        "id": "JpxuDLKr7Or6",
        "outputId": "393adbc9-93fd-46f8-9e18-02c750a6addb"
      },
      "execution_count": null,
      "outputs": [
        {
          "output_type": "execute_result",
          "data": {
            "text/plain": [
              "OrderedDict([('linear_layer.weight', tensor([[0.6968]], device='cuda:0')),\n",
              "             ('linear_layer.bias', tensor([0.3025], device='cuda:0'))])"
            ]
          },
          "metadata": {},
          "execution_count": 53
        }
      ]
    },
    {
      "cell_type": "code",
      "source": [
        "from torch.autograd.grad_mode import inference_mode\n",
        "model_2.eval()\n",
        "with inference_mode():\n",
        "  y_preds_2 = model_2(y_test)\n",
        "y_preds_2\n",
        "plot_predictions(train_data=X_train.cpu().numpy(),train_labels=y_train.cpu().numpy(),test_data=X_test.cpu().numpy(),test_labels=y_test.cpu().numpy(), predictions=y_preds_2.cpu().numpy())"
      ],
      "metadata": {
        "colab": {
          "base_uri": "https://localhost:8080/",
          "height": 428
        },
        "id": "a9hDpXAD7WSA",
        "outputId": "ba29bae7-6561-47fe-91df-5f0e0112bf8f"
      },
      "execution_count": null,
      "outputs": [
        {
          "output_type": "display_data",
          "data": {
            "text/plain": [
              "<Figure size 720x504 with 1 Axes>"
            ],
            "image/png": "[encoded data removed]"
          },
          "metadata": {
            "needs_background": "light"
          }
        }
      ]
    },
    {
      "cell_type": "code",
      "source": [
        "#save and load our model\n",
        "from pathlib import Path\n",
        "model_path = Path('models')\n",
        "model_path.mkdir(parents=True,exist_ok=True)\n",
        "\n",
        "#create model save path\n",
        "model_name = 'model2_python_workflow.pth'\n",
        "model_save_path = model_path/model_name\n",
        "\n",
        "# save the model state dict\n",
        "torch.save(obj=model_2.state_dict(),f=model_save_path )\n"
      ],
      "metadata": {
        "id": "FBRa_zHV9CQe"
      },
      "execution_count": null,
      "outputs": []
    },
    {
      "cell_type": "code",
      "source": [
        "#load the model_2\n",
        "\n",
        "#create a new instance\n",
        "load_m2 = LinearRegressionModelV2()\n",
        "\n",
        "#load the model's state_dict\n",
        "load_m2.load_state_dict(torch.load(model_save_path))\n",
        "\n",
        "# put the loaded model to the device\n",
        "load_m2.to(device)\n",
        "\n",
        "\n"
      ],
      "metadata": {
        "colab": {
          "base_uri": "https://localhost:8080/"
        },
        "id": "MUnQoMgD-tx8",
        "outputId": "aef32848-f940-46e6-fe76-ec33e3d9b008"
      },
      "execution_count": null,
      "outputs": [
        {
          "output_type": "execute_result",
          "data": {
            "text/plain": [
              "LinearRegressionModelV2(\n",
              "  (linear_layer): Linear(in_features=1, out_features=1, bias=True)\n",
              ")"
            ]
          },
          "metadata": {},
          "execution_count": 65
        }
      ]
    },
    {
      "cell_type": "code",
      "source": [
        "load_m2.state_dict()"
      ],
      "metadata": {
        "colab": {
          "base_uri": "https://localhost:8080/"
        },
        "id": "blXqaqkg_JW0",
        "outputId": "358b03c4-24a4-4af9-96b1-5d63eaba78c9"
      },
      "execution_count": null,
      "outputs": [
        {
          "output_type": "execute_result",
          "data": {
            "text/plain": [
              "OrderedDict([('linear_layer.weight', tensor([[0.6968]], device='cuda:0')),\n",
              "             ('linear_layer.bias', tensor([0.3025], device='cuda:0'))])"
            ]
          },
          "metadata": {},
          "execution_count": 66
        }
      ]
    },
    {
      "cell_type": "code",
      "source": [
        "from math import inf\n",
        "# Evaluate the loaded model\n",
        "load_m2.eval()\n",
        "with inference_mode():\n",
        "  pred_load = load_m2(X_test)\n",
        "\n",
        "pred_load == test_pred"
      ],
      "metadata": {
        "colab": {
          "base_uri": "https://localhost:8080/"
        },
        "id": "5pfk1Js5_MRH",
        "outputId": "6129426b-0e48-4cbc-d9be-9579bfbeb54e"
      },
      "execution_count": null,
      "outputs": [
        {
          "output_type": "execute_result",
          "data": {
            "text/plain": [
              "tensor([[True],\n",
              "        [True],\n",
              "        [True],\n",
              "        [True],\n",
              "        [True],\n",
              "        [True],\n",
              "        [True],\n",
              "        [True],\n",
              "        [True],\n",
              "        [True]], device='cuda:0')"
            ]
          },
          "metadata": {},
          "execution_count": 68
        }
      ]
    }
  ]
}